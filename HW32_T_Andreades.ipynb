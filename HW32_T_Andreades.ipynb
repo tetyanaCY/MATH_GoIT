{
  "nbformat": 4,
  "nbformat_minor": 0,
  "metadata": {
    "colab": {
      "provenance": []
    },
    "kernelspec": {
      "name": "python3",
      "display_name": "Python 3"
    },
    "language_info": {
      "name": "python"
    }
  },
  "cells": [
    {
      "cell_type": "code",
      "source": [
        "import numpy as np\n",
        "\n",
        "# Coefficient matrix for the first set of equations\n",
        "A1 = np.array([[-1, 1, 2],\n",
        "               [0, -1, -3],\n",
        "               [4, -3, 2]])\n",
        "# Constants matrix for the first set of equations\n",
        "B1 = np.array([1, -4, 7])\n",
        "\n",
        "# Calculate the inverse of the coefficient matrix A1\n",
        "A1_inv = np.linalg.inv(A1)\n",
        "# Rounding the inverse matrix A1 to two decimal places\n",
        "A1_inv_rounded = np.around(A1_inv, 2)\n",
        "\n",
        "# Multiply the inverse of A1 with B1 to find the solution for the first set\n",
        "solution1 = A1_inv.dot(B1)\n",
        "\n",
        "# Coefficient matrix for the second set of equations\n",
        "A2 = np.array([[3, -1, 0],\n",
        "               [2, -2, 4],\n",
        "               [5, -6, 2]])\n",
        "# Constants matrix for the second set of equations\n",
        "B2 = np.array([4, 8, 13])\n",
        "\n",
        "# Calculate the inverse of the coefficient matrix A2\n",
        "A2_inv = np.linalg.inv(A2)\n",
        "# Rounding the inverse matrix A2 to two decimal places\n",
        "A2_inv_rounded = np.around(A2_inv, 2)\n",
        "\n",
        "# Multiply the inverse of A2 with B2 to find the solution for the second set\n",
        "solution2 = A2_inv.dot(B2)\n",
        "\n",
        "# Print the solutions and rounded inverse matrices\n",
        "# For Matrix A1\n",
        "print(f\"Визначник матриці A1: {round(np.linalg.det(A1))}\")\n",
        "print(f\"Обернена матриця до матриці A1: \\r\\n {A1_inv_rounded}\")\n",
        "print(f\"Вектор-стовпець рішень: \\r\\n {solution1}\")\n",
        "\n",
        "# For Matrix A2\n",
        "print(f\"Визначник матриці A2: {round(np.linalg.det(A2))}\")\n",
        "print(f\"Обернена матриця до матриці A2: \\r\\n {A2_inv_rounded}\")\n",
        "print(f\"Вектор-стовпець рішень: \\r\\n {solution2}\")\n",
        "\n"
      ],
      "metadata": {
        "colab": {
          "base_uri": "https://localhost:8080/"
        },
        "id": "ufeVTzq9NEZE",
        "outputId": "f8b6f64b-1fbb-4b3f-d31f-580defc23a60"
      },
      "execution_count": 11,
      "outputs": [
        {
          "output_type": "stream",
          "name": "stdout",
          "text": [
            "Визначник матриці A1: 7\n",
            "Обернена матриця до матриці A1: \r\n",
            " [[-1.57 -1.14 -0.14]\n",
            " [-1.71 -1.43 -0.43]\n",
            " [ 0.57  0.14  0.14]]\n",
            "Вектор-стовпець рішень: \r\n",
            " [2. 1. 1.]\n",
            "Визначник матриці A2: 44\n",
            "Обернена матриця до матриці A2: \r\n",
            " [[ 0.45  0.05 -0.09]\n",
            " [ 0.36  0.14 -0.27]\n",
            " [-0.05  0.3  -0.09]]\n",
            "Вектор-стовпець рішень: \r\n",
            " [ 1. -1.  1.]\n"
          ]
        }
      ]
    },
    {
      "cell_type": "code",
      "source": [
        "import numpy as np\n",
        "# Matrix for graphical.  Apples trees, Apples and Bananas given:\n",
        "a = np.array([[3, 0, 0],\n",
        "              [0, 1, 6],\n",
        "              [1, 2, 0]])\n",
        "\n",
        "#Constants matrix given:\n",
        "b = np.array([60, 23, 30])\n",
        "\n",
        "x = np.linalg.solve(a, b)\n",
        "\n",
        "# Calculate the inverse of the coefficient matrix a\n",
        "a_inv = np.linalg.inv(a)\n",
        "# Rounding the inverse matrix a to two decimal places\n",
        "a_inv_rounded = np.around(a_inv, 2)\n",
        "\n",
        "# Multiply the inverse of a with b to find the solution\n",
        "solution1 = a_inv.dot(b)\n",
        "\n",
        "print(f\"Визначник матриці a: {round(np.linalg.det(a))}\")\n",
        "print(f\"Обернена матриця до матриці a: \\r\\n {a_inv_rounded}\")\n",
        "print(f\"Вектор-стовпець рішень: \\r\\n {solution1}\")\n",
        "print(\"Apple trees:\", x[0], \"Apples:\", x[1], \"Bananas:\", x[2])\n",
        "res = x[0] + x[1] + 2 * x[2]\n",
        "print(\"The Answer is:\", (res))\n"
      ],
      "metadata": {
        "colab": {
          "base_uri": "https://localhost:8080/"
        },
        "id": "TCSN5YrtRgVx",
        "outputId": "d11e9d23-c776-4ffd-bcfa-32763f13659f"
      },
      "execution_count": 25,
      "outputs": [
        {
          "output_type": "stream",
          "name": "stdout",
          "text": [
            "Визначник матриці a: -36\n",
            "Обернена матриця до матриці a: \r\n",
            " [[ 0.33  0.    0.  ]\n",
            " [-0.17  0.    0.5 ]\n",
            " [ 0.03  0.17 -0.08]]\n",
            "Вектор-стовпець рішень: \r\n",
            " [20.  5.  3.]\n",
            "Apple trees: 20.0 Apples: 5.0 Bananas: 3.0\n",
            "The Answer is: 31.0\n"
          ]
        }
      ]
    },
    {
      "cell_type": "code",
      "source": [
        "import numpy as np\n",
        "\n",
        "# Define the coefficient matrix for the equations\n",
        "a = np.array([\n",
        "    [20, 3, 0],   # Coefficients for the first equation\n",
        "    [8, 28, 4],   # Coefficients for the second equation\n",
        "    [4, 12, 32]   # Coefficients for the third equation\n",
        "])\n",
        "\n",
        "# Define the constants vector (right-hand side of equations)\n",
        "b = np.array([800, 900, 600])\n",
        "\n",
        "# Use np.linalg.solve to find the hourly rates for Designer (D), Developer (R), and Tester (T)\n",
        "hourly_rates = np.linalg.solve(a, b)\n",
        "# Rounding the hourly rates to two decimal places\n",
        "hourly_rates = np.around(hourly_rates, 2)\n",
        "\n",
        "# Calculate the inverse of the coefficient matrix\n",
        "inverse_matrix = np.linalg.inv(a)\n",
        "# Rounding the inverse matrix to two decimal places\n",
        "inverse_matrix = np.around(inverse_matrix, 3)\n",
        "\n",
        "# Calculate the determinant of the coefficient matrix\n",
        "determinant = np.linalg.det(a)\n",
        "# Rounding the determinant to two decimal places\n",
        "determinant = np.around(determinant, 2)\n",
        "\n",
        "# Print the results\n",
        "print(\"Визначник матриці a:\", determinant)\n",
        "print(\"Обернена матриця до матриці a:\\n\", inverse_matrix)\n",
        "print(\"Вектор-стовпець рішень:\", hourly_rates)\n",
        "print(\"Погодинна оплата дизайнера:\", hourly_rates[0],\"USD; \"  \"розробника:\", hourly_rates[1],\"USD; \"  \"тестувальника:\", hourly_rates[2], \"USD\")\n"
      ],
      "metadata": {
        "colab": {
          "base_uri": "https://localhost:8080/"
        },
        "id": "i4PU6qWRcafD",
        "outputId": "3fa0c454-e9b6-4f38-c81c-7671207872be"
      },
      "execution_count": 41,
      "outputs": [
        {
          "output_type": "stream",
          "name": "stdout",
          "text": [
            "Визначник матриці a: 16240.0\n",
            "Обернена матриця до матриці a:\n",
            " [[ 0.052 -0.006  0.001]\n",
            " [-0.015  0.039 -0.005]\n",
            " [-0.001 -0.014  0.033]]\n",
            "Вектор-стовпець рішень: [36.9  20.69  6.38]\n",
            "Погодинна оплата дизайнера: 36.9 USD; розробника: 20.69 USD; тестувальника: 6.38 USD\n"
          ]
        }
      ]
    }
  ]
}